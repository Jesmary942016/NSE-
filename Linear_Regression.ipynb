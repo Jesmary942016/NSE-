{
  "nbformat": 4,
  "nbformat_minor": 0,
  "metadata": {
    "colab": {
      "name": "Linear Regression.ipynb",
      "provenance": [],
      "collapsed_sections": [],
      "authorship_tag": "ABX9TyPOOuKumNbt/Wa2lhUWm61j",
      "include_colab_link": true
    },
    "kernelspec": {
      "name": "python3",
      "display_name": "Python 3"
    },
    "language_info": {
      "name": "python"
    }
  },
  "cells": [
    {
      "cell_type": "markdown",
      "metadata": {
        "id": "view-in-github",
        "colab_type": "text"
      },
      "source": [
        "<a href=\"https://colab.research.google.com/github/Jesmary942016/NSE-/blob/main/Linear_Regression.ipynb\" target=\"_parent\"><img src=\"https://colab.research.google.com/assets/colab-badge.svg\" alt=\"Open In Colab\"/></a>"
      ]
    },
    {
      "cell_type": "code",
      "execution_count": 1,
      "metadata": {
        "id": "rOy66oBpI571"
      },
      "outputs": [],
      "source": [
        "# Import numpy\n",
        "import numpy as np\n",
        "\n",
        "# Import matplotlib as an alias plt and set the style\n",
        "import matplotlib.pyplot as plt\n",
        "%matplotlib inline\n",
        "plt.style.use('seaborn-darkgrid')\n",
        "\n",
        "# Import linear_model and dataset from sklearn\n",
        "from sklearn import linear_model, datasets\n",
        "\n",
        "# Load the diabetes dataset\n",
        "diabetes = datasets.load_diabetes()"
      ]
    },
    {
      "cell_type": "code",
      "source": [
        "# print(diabetes)\n",
        "# Use only one feature as a independent variable\n",
        "diabetes_X = diabetes.data[:, np.newaxis, 2]\n",
        "\n",
        "# Split the independent data into training/testing sets\n",
        "diabetes_X_train = diabetes_X[:-20]\n",
        "diabetes_X_test = diabetes_X[-20:]\n",
        "diabetes_X_test[:2]"
      ],
      "metadata": {
        "colab": {
          "base_uri": "https://localhost:8080/"
        },
        "id": "7K2k-rZYNz49",
        "outputId": "fcfe2c9a-a762-4d5d-9965-e4aca91c2835"
      },
      "execution_count": 5,
      "outputs": [
        {
          "output_type": "execute_result",
          "data": {
            "text/plain": [
              "array([[ 0.07786339],\n",
              "       [-0.03961813]])"
            ]
          },
          "metadata": {},
          "execution_count": 5
        }
      ]
    },
    {
      "cell_type": "code",
      "source": [
        "# Dependent variable \n",
        "diabetes_y = diabetes.target\n",
        "\n",
        "# Split the dependent data into training/testing sets\n",
        "diabetes_y_train = diabetes_y[:-20]\n",
        "diabetes_y_test = diabetes_y[-20:]\n",
        "diabetes_y_test"
      ],
      "metadata": {
        "colab": {
          "base_uri": "https://localhost:8080/"
        },
        "id": "OQL9xpDMQDLd",
        "outputId": "d739fa73-91d8-4512-a06d-9f13dcb32ea5"
      },
      "execution_count": 6,
      "outputs": [
        {
          "output_type": "execute_result",
          "data": {
            "text/plain": [
              "array([233.,  91., 111., 152., 120.,  67., 310.,  94., 183.,  66., 173.,\n",
              "        72.,  49.,  64.,  48., 178., 104., 132., 220.,  57.])"
            ]
          },
          "metadata": {},
          "execution_count": 6
        }
      ]
    },
    {
      "cell_type": "code",
      "source": [
        "# Create linear regression object\n",
        "regr = linear_model.LinearRegression()\n",
        "\n",
        "# Train the model using the training sets\n",
        "regr.fit(diabetes_X_train, diabetes_y_train)"
      ],
      "metadata": {
        "colab": {
          "base_uri": "https://localhost:8080/"
        },
        "id": "VMkCoMp5QRvo",
        "outputId": "c7530998-c3ab-4f34-af80-3b40c352ff6b"
      },
      "execution_count": 7,
      "outputs": [
        {
          "output_type": "execute_result",
          "data": {
            "text/plain": [
              "LinearRegression()"
            ]
          },
          "metadata": {},
          "execution_count": 7
        }
      ]
    },
    {
      "cell_type": "code",
      "source": [
        "# Mean squared error\n",
        "print('Mean squared error: %2f' %\n",
        "      np.mean((regr.predict(diabetes_X_test)-diabetes_y_test)**2))"
      ],
      "metadata": {
        "colab": {
          "base_uri": "https://localhost:8080/"
        },
        "id": "xt4f5xJAQR01",
        "outputId": "bda672ce-7dd0-4d4d-ca64-f55d1932687d"
      },
      "execution_count": 8,
      "outputs": [
        {
          "output_type": "stream",
          "name": "stdout",
          "text": [
            "Mean squared error: 2548.072399\n"
          ]
        }
      ]
    },
    {
      "cell_type": "code",
      "source": [
        "# Calculate variance score\n",
        "print('Variance score: %2f' % regr.score(diabetes_X_test, diabetes_y_test))\n",
        "\n",
        "# Plot outputs\n",
        "plt.figure(figsize=(10, 7))\n",
        "plt.scatter(diabetes_X_test, diabetes_y_test, color='black')\n",
        "plt.plot(diabetes_X_test, regr.predict(\n",
        "    diabetes_X_test), color='blue', linewidth=3)\n",
        "plt.title('Linear Regression Model', fontsize=14)\n",
        "plt.xlabel('Independent Variable', fontsize=12)\n",
        "plt.ylabel('Dependent Variable', fontsize=12)\n",
        "plt.show()"
      ],
      "metadata": {
        "colab": {
          "base_uri": "https://localhost:8080/",
          "height": 475
        },
        "id": "nDsrC17QQYS8",
        "outputId": "59da79c6-c1ac-4072-aa0d-de1c6eb5b5e4"
      },
      "execution_count": 9,
      "outputs": [
        {
          "output_type": "stream",
          "name": "stdout",
          "text": [
            "Variance score: 0.472575\n"
          ]
        },
        {
          "output_type": "display_data",
          "data": {
            "text/plain": [
              "<Figure size 720x504 with 1 Axes>"
            ],
            "image/png": "[encoded data removed]"
          },
          "metadata": {
            "needs_background": "light"
          }
        }
      ]
    }
  ]
}