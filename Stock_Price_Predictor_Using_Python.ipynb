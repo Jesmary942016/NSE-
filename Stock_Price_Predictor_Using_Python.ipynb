{
  "nbformat": 4,
  "nbformat_minor": 0,
  "metadata": {
    "colab": {
      "provenance": [],
      "authorship_tag": "ABX9TyMhOXlUP7E1lRO1unA5VfZR",
      "include_colab_link": true
    },
    "kernelspec": {
      "name": "python3",
      "display_name": "Python 3"
    },
    "language_info": {
      "name": "python"
    }
  },
  "cells": [
    {
      "cell_type": "markdown",
      "metadata": {
        "id": "view-in-github",
        "colab_type": "text"
      },
      "source": [
        "<a href=\"https://colab.research.google.com/github/jesmarykj/NSE-/blob/main/Stock_Price_Predictor_Using_Python.ipynb\" target=\"_parent\"><img src=\"https://colab.research.google.com/assets/colab-badge.svg\" alt=\"Open In Colab\"/></a>"
      ]
    },
    {
      "cell_type": "code",
      "execution_count": null,
      "metadata": {
        "id": "beDMC5-7dKIZ"
      },
      "outputs": [],
      "source": [
        "import pandas as pd\n",
        "import numpy as np\n",
        "import matplotlib.pyplot as plt\n",
        "from sklearn.preprocessing import MinMaxScaler\n",
        "from keras.models import Sequential, load_model\n",
        "from keras.layers import LSTM, Dense, Dropout"
      ]
    },
    {
      "cell_type": "code",
      "source": [
        "from google.colab import files\n",
        "dataset=files.upload()"
      ],
      "metadata": {
        "colab": {
          "base_uri": "https://localhost:8080/",
          "height": 73
        },
        "id": "zKAhcaOL2bHs",
        "outputId": "58be1f49-2158-4530-d624-740145e8913b"
      },
      "execution_count": null,
      "outputs": [
        {
          "output_type": "display_data",
          "data": {
            "text/plain": [
              "<IPython.core.display.HTML object>"
            ],
            "text/html": [
              "\n",
              "     <input type=\"file\" id=\"files-2548b9f5-d0df-4c8d-9f27-b2cdc7348488\" name=\"files[]\" multiple disabled\n",
              "        style=\"border:none\" />\n",
              "     <output id=\"result-2548b9f5-d0df-4c8d-9f27-b2cdc7348488\">\n",
              "      Upload widget is only available when the cell has been executed in the\n",
              "      current browser session. Please rerun this cell to enable.\n",
              "      </output>\n",
              "      <script>// Copyright 2017 Google LLC\n",
              "//\n",
              "// Licensed under the Apache License, Version 2.0 (the \"License\");\n",
              "// you may not use this file except in compliance with the License.\n",
              "// You may obtain a copy of the License at\n",
              "//\n",
              "//      http://www.apache.org/licenses/LICENSE-2.0\n",
              "//\n",
              "// Unless required by applicable law or agreed to in writing, software\n",
              "// distributed under the License is distributed on an \"AS IS\" BASIS,\n",
              "// WITHOUT WARRANTIES OR CONDITIONS OF ANY KIND, either express or implied.\n",
              "// See the License for the specific language governing permissions and\n",
              "// limitations under the License.\n",
              "\n",
              "/**\n",
              " * @fileoverview Helpers for google.colab Python module.\n",
              " */\n",
              "(function(scope) {\n",
              "function span(text, styleAttributes = {}) {\n",
              "  const element = document.createElement('span');\n",
              "  element.textContent = text;\n",
              "  for (const key of Object.keys(styleAttributes)) {\n",
              "    element.style[key] = styleAttributes[key];\n",
              "  }\n",
              "  return element;\n",
              "}\n",
              "\n",
              "// Max number of bytes which will be uploaded at a time.\n",
              "const MAX_PAYLOAD_SIZE = 100 * 1024;\n",
              "\n",
              "function _uploadFiles(inputId, outputId) {\n",
              "  const steps = uploadFilesStep(inputId, outputId);\n",
              "  const outputElement = document.getElementById(outputId);\n",
              "  // Cache steps on the outputElement to make it available for the next call\n",
              "  // to uploadFilesContinue from Python.\n",
              "  outputElement.steps = steps;\n",
              "\n",
              "  return _uploadFilesContinue(outputId);\n",
              "}\n",
              "\n",
              "// This is roughly an async generator (not supported in the browser yet),\n",
              "// where there are multiple asynchronous steps and the Python side is going\n",
              "// to poll for completion of each step.\n",
              "// This uses a Promise to block the python side on completion of each step,\n",
              "// then passes the result of the previous step as the input to the next step.\n",
              "function _uploadFilesContinue(outputId) {\n",
              "  const outputElement = document.getElementById(outputId);\n",
              "  const steps = outputElement.steps;\n",
              "\n",
              "  const next = steps.next(outputElement.lastPromiseValue);\n",
              "  return Promise.resolve(next.value.promise).then((value) => {\n",
              "    // Cache the last promise value to make it available to the next\n",
              "    // step of the generator.\n",
              "    outputElement.lastPromiseValue = value;\n",
              "    return next.value.response;\n",
              "  });\n",
              "}\n",
              "\n",
              "/**\n",
              " * Generator function which is called between each async step of the upload\n",
              " * process.\n",
              " * @param {string} inputId Element ID of the input file picker element.\n",
              " * @param {string} outputId Element ID of the output display.\n",
              " * @return {!Iterable<!Object>} Iterable of next steps.\n",
              " */\n",
              "function* uploadFilesStep(inputId, outputId) {\n",
              "  const inputElement = document.getElementById(inputId);\n",
              "  inputElement.disabled = false;\n",
              "\n",
              "  const outputElement = document.getElementById(outputId);\n",
              "  outputElement.innerHTML = '';\n",
              "\n",
              "  const pickedPromise = new Promise((resolve) => {\n",
              "    inputElement.addEventListener('change', (e) => {\n",
              "      resolve(e.target.files);\n",
              "    });\n",
              "  });\n",
              "\n",
              "  const cancel = document.createElement('button');\n",
              "  inputElement.parentElement.appendChild(cancel);\n",
              "  cancel.textContent = 'Cancel upload';\n",
              "  const cancelPromise = new Promise((resolve) => {\n",
              "    cancel.onclick = () => {\n",
              "      resolve(null);\n",
              "    };\n",
              "  });\n",
              "\n",
              "  // Wait for the user to pick the files.\n",
              "  const files = yield {\n",
              "    promise: Promise.race([pickedPromise, cancelPromise]),\n",
              "    response: {\n",
              "      action: 'starting',\n",
              "    }\n",
              "  };\n",
              "\n",
              "  cancel.remove();\n",
              "\n",
              "  // Disable the input element since further picks are not allowed.\n",
              "  inputElement.disabled = true;\n",
              "\n",
              "  if (!files) {\n",
              "    return {\n",
              "      response: {\n",
              "        action: 'complete',\n",
              "      }\n",
              "    };\n",
              "  }\n",
              "\n",
              "  for (const file of files) {\n",
              "    const li = document.createElement('li');\n",
              "    li.append(span(file.name, {fontWeight: 'bold'}));\n",
              "    li.append(span(\n",
              "        `(${file.type || 'n/a'}) - ${file.size} bytes, ` +\n",
              "        `last modified: ${\n",
              "            file.lastModifiedDate ? file.lastModifiedDate.toLocaleDateString() :\n",
              "                                    'n/a'} - `));\n",
              "    const percent = span('0% done');\n",
              "    li.appendChild(percent);\n",
              "\n",
              "    outputElement.appendChild(li);\n",
              "\n",
              "    const fileDataPromise = new Promise((resolve) => {\n",
              "      const reader = new FileReader();\n",
              "      reader.onload = (e) => {\n",
              "        resolve(e.target.result);\n",
              "      };\n",
              "      reader.readAsArrayBuffer(file);\n",
              "    });\n",
              "    // Wait for the data to be ready.\n",
              "    let fileData = yield {\n",
              "      promise: fileDataPromise,\n",
              "      response: {\n",
              "        action: 'continue',\n",
              "      }\n",
              "    };\n",
              "\n",
              "    // Use a chunked sending to avoid message size limits. See b/62115660.\n",
              "    let position = 0;\n",
              "    do {\n",
              "      const length = Math.min(fileData.byteLength - position, MAX_PAYLOAD_SIZE);\n",
              "      const chunk = new Uint8Array(fileData, position, length);\n",
              "      position += length;\n",
              "\n",
              "      const base64 = btoa(String.fromCharCode.apply(null, chunk));\n",
              "      yield {\n",
              "        response: {\n",
              "          action: 'append',\n",
              "          file: file.name,\n",
              "          data: base64,\n",
              "        },\n",
              "      };\n",
              "\n",
              "      let percentDone = fileData.byteLength === 0 ?\n",
              "          100 :\n",
              "          Math.round((position / fileData.byteLength) * 100);\n",
              "      percent.textContent = `${percentDone}% done`;\n",
              "\n",
              "    } while (position < fileData.byteLength);\n",
              "  }\n",
              "\n",
              "  // All done.\n",
              "  yield {\n",
              "    response: {\n",
              "      action: 'complete',\n",
              "    }\n",
              "  };\n",
              "}\n",
              "\n",
              "scope.google = scope.google || {};\n",
              "scope.google.colab = scope.google.colab || {};\n",
              "scope.google.colab._files = {\n",
              "  _uploadFiles,\n",
              "  _uploadFilesContinue,\n",
              "};\n",
              "})(self);\n",
              "</script> "
            ]
          },
          "metadata": {}
        },
        {
          "output_type": "stream",
          "name": "stdout",
          "text": [
            "Saving TSLA.csv to TSLA (3).csv\n"
          ]
        }
      ]
    },
    {
      "cell_type": "code",
      "source": [
        "df=pd.read_csv('TSLA.csv')"
      ],
      "metadata": {
        "id": "8YU5IB4i2bM9"
      },
      "execution_count": null,
      "outputs": []
    },
    {
      "cell_type": "code",
      "source": [
        "df.shape"
      ],
      "metadata": {
        "colab": {
          "base_uri": "https://localhost:8080/"
        },
        "id": "KghfL0vA2bRb",
        "outputId": "4200d32c-3df5-4a87-ecc6-436d8b7c0fce"
      },
      "execution_count": null,
      "outputs": [
        {
          "output_type": "execute_result",
          "data": {
            "text/plain": [
              "(2392, 7)"
            ]
          },
          "metadata": {},
          "execution_count": 62
        }
      ]
    },
    {
      "cell_type": "code",
      "source": [
        "df = df['Open'].values\n",
        "df = df.reshape(-1, 1)"
      ],
      "metadata": {
        "id": "rMpRSPX33pr_"
      },
      "execution_count": null,
      "outputs": []
    },
    {
      "cell_type": "code",
      "source": [
        "df.shape"
      ],
      "metadata": {
        "colab": {
          "base_uri": "https://localhost:8080/"
        },
        "id": "zJLhTbDd3px0",
        "outputId": "71506bd5-be8c-4b28-de67-6e7090a16625"
      },
      "execution_count": null,
      "outputs": [
        {
          "output_type": "execute_result",
          "data": {
            "text/plain": [
              "(2392, 1)"
            ]
          },
          "metadata": {},
          "execution_count": 64
        }
      ]
    },
    {
      "cell_type": "code",
      "source": [
        "dataset_train = np.array(df[:int(df.shape[0]*0.8)])\n",
        "dataset_test = np.array(df[int(df.shape[0]*0.8):])\n",
        "print(dataset_train.shape)\n",
        "print(dataset_test.shape)"
      ],
      "metadata": {
        "colab": {
          "base_uri": "https://localhost:8080/"
        },
        "id": "vDiuBl7e3p1l",
        "outputId": "2d8a05dc-f37a-4ee8-bcfc-3d0c1b1c0bca"
      },
      "execution_count": null,
      "outputs": [
        {
          "output_type": "stream",
          "name": "stdout",
          "text": [
            "(1913, 1)\n",
            "(479, 1)\n"
          ]
        }
      ]
    },
    {
      "cell_type": "code",
      "source": [
        "from sklearn.preprocessing import MinMaxScaler\n",
        "from keras.models import Sequential, load_model\n",
        "from keras.layers import LSTM, Dense, Dropout"
      ],
      "metadata": {
        "id": "sGu-6ZMq3p8k"
      },
      "execution_count": null,
      "outputs": []
    },
    {
      "cell_type": "code",
      "source": [
        "scaler = MinMaxScaler(feature_range=(0,1))\n",
        "dataset_train = scaler.fit_transform(dataset_train)\n",
        "dataset_train[:5]"
      ],
      "metadata": {
        "colab": {
          "base_uri": "https://localhost:8080/"
        },
        "id": "3rKyq7jB38AB",
        "outputId": "f9dc740e-d9cc-441a-a3a0-a1f8d2d7a593"
      },
      "execution_count": null,
      "outputs": [
        {
          "output_type": "execute_result",
          "data": {
            "text/plain": [
              "array([[0.0239104 ],\n",
              "       [0.01851302],\n",
              "       [0.01041695],\n",
              "       [0.00070166],\n",
              "       [0.        ]])"
            ]
          },
          "metadata": {},
          "execution_count": 67
        }
      ]
    },
    {
      "cell_type": "code",
      "source": [
        "dataset_test = scaler.transform(dataset_test)\n",
        "dataset_test[:5]"
      ],
      "metadata": {
        "colab": {
          "base_uri": "https://localhost:8080/"
        },
        "id": "GIWDZIUB38Cp",
        "outputId": "a8e8e95e-123a-4eac-826c-92b9b3e4332b"
      },
      "execution_count": null,
      "outputs": [
        {
          "output_type": "execute_result",
          "data": {
            "text/plain": [
              "array([[0.8340845 ],\n",
              "       [0.87127243],\n",
              "       [0.88293085],\n",
              "       [0.81983541],\n",
              "       [0.80958041]])"
            ]
          },
          "metadata": {},
          "execution_count": 68
        }
      ]
    },
    {
      "cell_type": "code",
      "source": [
        "def create_dataset(df):\n",
        "    x = []\n",
        "    y = []\n",
        "    for i in range(50, df.shape[0]):\n",
        "        x.append(df[i-50:i, 0])\n",
        "        y.append(df[i, 0])\n",
        "    x = np.array(x)\n",
        "    y = np.array(y)\n",
        "    return x,y "
      ],
      "metadata": {
        "id": "VKeXwam838H6"
      },
      "execution_count": null,
      "outputs": []
    },
    {
      "cell_type": "code",
      "source": [
        "x_train, y_train = create_dataset(dataset_train)\n",
        "x_test, y_test = create_dataset(dataset_test)"
      ],
      "metadata": {
        "id": "PAVrWl6y38K2"
      },
      "execution_count": null,
      "outputs": []
    },
    {
      "cell_type": "code",
      "source": [
        "model = Sequential()\n",
        "model.add(LSTM(units=96, return_sequences=True, input_shape=(x_train.shape[1], 1)))\n",
        "model.add(Dropout(0.2))\n",
        "model.add(LSTM(units=96, return_sequences=True))\n",
        "model.add(Dropout(0.2))\n",
        "model.add(LSTM(units=96, return_sequences=True))\n",
        "model.add(Dropout(0.2))\n",
        "model.add(LSTM(units=96))\n",
        "model.add(Dropout(0.2))\n",
        "model.add(Dense(units=1))"
      ],
      "metadata": {
        "id": "LseTTG5a4Lc_"
      },
      "execution_count": null,
      "outputs": []
    },
    {
      "cell_type": "code",
      "source": [
        "x_train = np.reshape(x_train, (x_train.shape[0], x_train.shape[1], 1))\n",
        "x_test = np.reshape(x_test, (x_test.shape[0], x_test.shape[1], 1))"
      ],
      "metadata": {
        "id": "vFdlL3QD4Lfr"
      },
      "execution_count": null,
      "outputs": []
    },
    {
      "cell_type": "code",
      "source": [
        "model.compile(loss='mean_squared_error', optimizer='adam')"
      ],
      "metadata": {
        "id": "g0W-lzju4Lif"
      },
      "execution_count": null,
      "outputs": []
    },
    {
      "cell_type": "code",
      "source": [
        "model.fit(x_train, y_train, epochs=50, batch_size=32)\n",
        "model.save('stock_prediction.h5')"
      ],
      "metadata": {
        "colab": {
          "base_uri": "https://localhost:8080/"
        },
        "id": "kgvsZAPl4XN6",
        "outputId": "a9223e6f-cd86-46d5-eecf-139c8aaf369a"
      },
      "execution_count": null,
      "outputs": [
        {
          "output_type": "stream",
          "name": "stdout",
          "text": [
            "Epoch 1/50\n",
            "59/59 [==============================] - 12s 108ms/step - loss: 0.0161\n",
            "Epoch 2/50\n",
            "59/59 [==============================] - 7s 112ms/step - loss: 0.0036\n",
            "Epoch 3/50\n",
            "59/59 [==============================] - 6s 104ms/step - loss: 0.0035\n",
            "Epoch 4/50\n",
            "59/59 [==============================] - 6s 104ms/step - loss: 0.0031\n",
            "Epoch 5/50\n",
            "59/59 [==============================] - 6s 103ms/step - loss: 0.0032\n",
            "Epoch 6/50\n",
            "59/59 [==============================] - 6s 104ms/step - loss: 0.0027\n",
            "Epoch 7/50\n",
            "59/59 [==============================] - 6s 104ms/step - loss: 0.0026\n",
            "Epoch 8/50\n",
            "59/59 [==============================] - 6s 104ms/step - loss: 0.0027\n",
            "Epoch 9/50\n",
            "59/59 [==============================] - 6s 104ms/step - loss: 0.0021\n",
            "Epoch 10/50\n",
            "59/59 [==============================] - 6s 104ms/step - loss: 0.0023\n",
            "Epoch 11/50\n",
            "59/59 [==============================] - 7s 116ms/step - loss: 0.0021\n",
            "Epoch 12/50\n",
            "59/59 [==============================] - 6s 104ms/step - loss: 0.0024\n",
            "Epoch 13/50\n",
            "59/59 [==============================] - 6s 104ms/step - loss: 0.0019\n",
            "Epoch 14/50\n",
            "59/59 [==============================] - 6s 106ms/step - loss: 0.0019\n",
            "Epoch 15/50\n",
            "59/59 [==============================] - 6s 104ms/step - loss: 0.0019\n",
            "Epoch 16/50\n",
            "59/59 [==============================] - 6s 105ms/step - loss: 0.0016\n",
            "Epoch 17/50\n",
            "59/59 [==============================] - 6s 104ms/step - loss: 0.0017\n",
            "Epoch 18/50\n",
            "59/59 [==============================] - 6s 105ms/step - loss: 0.0018\n",
            "Epoch 19/50\n",
            "59/59 [==============================] - 6s 104ms/step - loss: 0.0017\n",
            "Epoch 20/50\n",
            "59/59 [==============================] - 6s 108ms/step - loss: 0.0019\n",
            "Epoch 21/50\n",
            "59/59 [==============================] - 7s 110ms/step - loss: 0.0020\n",
            "Epoch 22/50\n",
            "59/59 [==============================] - 6s 103ms/step - loss: 0.0016\n",
            "Epoch 23/50\n",
            "59/59 [==============================] - 6s 104ms/step - loss: 0.0015\n",
            "Epoch 24/50\n",
            "59/59 [==============================] - 6s 104ms/step - loss: 0.0015\n",
            "Epoch 25/50\n",
            "59/59 [==============================] - 6s 102ms/step - loss: 0.0017\n",
            "Epoch 26/50\n",
            "59/59 [==============================] - 6s 104ms/step - loss: 0.0013\n",
            "Epoch 27/50\n",
            "59/59 [==============================] - 6s 105ms/step - loss: 0.0015\n",
            "Epoch 28/50\n",
            "59/59 [==============================] - 6s 104ms/step - loss: 0.0013\n",
            "Epoch 29/50\n",
            "59/59 [==============================] - 6s 103ms/step - loss: 0.0013\n",
            "Epoch 30/50\n",
            "59/59 [==============================] - 7s 115ms/step - loss: 0.0013\n",
            "Epoch 31/50\n",
            "59/59 [==============================] - 6s 105ms/step - loss: 0.0012\n",
            "Epoch 32/50\n",
            "59/59 [==============================] - 6s 105ms/step - loss: 0.0013\n",
            "Epoch 33/50\n",
            "59/59 [==============================] - 6s 103ms/step - loss: 0.0012\n",
            "Epoch 34/50\n",
            "59/59 [==============================] - 6s 104ms/step - loss: 0.0014\n",
            "Epoch 35/50\n",
            "59/59 [==============================] - 6s 105ms/step - loss: 0.0014\n",
            "Epoch 36/50\n",
            "59/59 [==============================] - 6s 104ms/step - loss: 0.0012\n",
            "Epoch 37/50\n",
            "59/59 [==============================] - 6s 104ms/step - loss: 0.0013\n",
            "Epoch 38/50\n",
            "59/59 [==============================] - 6s 104ms/step - loss: 0.0013\n",
            "Epoch 39/50\n",
            "59/59 [==============================] - 6s 104ms/step - loss: 0.0013\n",
            "Epoch 40/50\n",
            "59/59 [==============================] - 7s 115ms/step - loss: 0.0012\n",
            "Epoch 41/50\n",
            "59/59 [==============================] - 6s 104ms/step - loss: 0.0011\n",
            "Epoch 42/50\n",
            "59/59 [==============================] - 6s 104ms/step - loss: 0.0012\n",
            "Epoch 43/50\n",
            "59/59 [==============================] - 6s 104ms/step - loss: 0.0015\n",
            "Epoch 44/50\n",
            "59/59 [==============================] - 6s 102ms/step - loss: 0.0012\n",
            "Epoch 45/50\n",
            "59/59 [==============================] - 6s 103ms/step - loss: 0.0015\n",
            "Epoch 46/50\n",
            "59/59 [==============================] - 6s 104ms/step - loss: 0.0012\n",
            "Epoch 47/50\n",
            "59/59 [==============================] - 6s 102ms/step - loss: 0.0013\n",
            "Epoch 48/50\n",
            "59/59 [==============================] - 6s 103ms/step - loss: 0.0012\n",
            "Epoch 49/50\n",
            "59/59 [==============================] - 7s 114ms/step - loss: 0.0012\n",
            "Epoch 50/50\n",
            "59/59 [==============================] - 6s 103ms/step - loss: 0.0012\n"
          ]
        }
      ]
    },
    {
      "cell_type": "code",
      "source": [
        "model = load_model('stock_prediction.h5')"
      ],
      "metadata": {
        "id": "hgEm5RV94XPJ"
      },
      "execution_count": null,
      "outputs": []
    },
    {
      "cell_type": "code",
      "source": [
        "predictions = model.predict(x_test)\n",
        "predictions = scaler.inverse_transform(predictions)\n",
        "y_test_scaled = scaler.inverse_transform(y_test.reshape(-1, 1))\n",
        "\n",
        "fig, ax = plt.subplots(figsize=(16,8))\n",
        "ax.set_facecolor('#000041')\n",
        "ax.plot(y_test_scaled, color='red', label='Original price')\n",
        "plt.plot(predictions, color='cyan', label='Predicted price')\n",
        "plt.legend()"
      ],
      "metadata": {
        "colab": {
          "base_uri": "https://localhost:8080/",
          "height": 518
        },
        "id": "lEJhybQs4XRS",
        "outputId": "16e65899-2ff4-43a9-f597-8bdb6197741f"
      },
      "execution_count": null,
      "outputs": [
        {
          "output_type": "stream",
          "name": "stdout",
          "text": [
            "14/14 [==============================] - 2s 31ms/step\n"
          ]
        },
        {
          "output_type": "execute_result",
          "data": {
            "text/plain": [
              "<matplotlib.legend.Legend at 0x7f8883ca7450>"
            ]
          },
          "metadata": {},
          "execution_count": 76
        },
        {
          "output_type": "display_data",
          "data": {
            "text/plain": [
              "<Figure size 1152x576 with 1 Axes>"
            ],
            "image/png": "[encoded data removed]"
          },
          "metadata": {
            "needs_background": "light"
          }
        }
      ]
    }
  ]
}